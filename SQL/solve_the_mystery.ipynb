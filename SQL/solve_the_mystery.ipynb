{
 "cells": [
  {
   "cell_type": "markdown",
   "source": [
    "# Fiftyville\n",
    "Write SQL queries to solve a mystery.\n",
    "\n",
    "## A Mystery in Fiftyville\n",
    "\n",
    "The CS50 Duck has been stolen! The town of Fiftyville has called upon you to solve the mystery of the stolen duck. Authorities believe that the thief stole the duck and then, shortly afterwards, took a flight out of town with the help of an accomplice. Your goal is to identify:\n",
    "\n",
    "Who the thief is,\n",
    "What city the thief escaped to, and\n",
    "Who the thief’s accomplice is who helped them escape\n",
    "All you know is that the theft **took place on July 28, 2020** and that it **took place on Chamberlin Street**.\n",
    "\n",
    "How will you go about solving this mystery? The Fiftyville authorities have taken some of the town’s records from around the time of the theft and prepared a SQLite database for you, fiftyville.db, which contains tables of data from around the town. You can query that table using SQL SELECT queries to access the data of interest to you. Using just the information in the database, your task is to solve the mystery."
   ],
   "metadata": {}
  },
  {
   "cell_type": "markdown",
   "source": [
    "Let's connect to database with sqlite3"
   ],
   "metadata": {}
  },
  {
   "cell_type": "code",
   "execution_count": 1,
   "source": [
    "from cs50 import SQL\n",
    "database = SQL(\"sqlite:///fiftyville.db\")"
   ],
   "outputs": [],
   "metadata": {}
  },
  {
   "cell_type": "markdown",
   "source": [
    "## SCENE DESCRIPTION"
   ],
   "metadata": {}
  },
  {
   "cell_type": "markdown",
   "source": [
    "## 3 INTERVIEWS\n",
    "\n",
    "👩‍🦳 RUTH: Sometime within ten minutes of the theft, I saw the thief get into a car in the courthouse parking lot and drive away.\n",
    "If you have security footage from the courthouse parking lot, you might want to look for cars that left the parking lot in that time frame.\n",
    "\n",
    "👱EUGENE: I don't know the thief's name, but it was someone I recognized. Earlier this morning, before I arrived at the courthouse,\n",
    "I was walking by the ATM on Fifer Street and saw the thief there withdrawing some money.\n",
    "\n",
    "🧓 RAYMOND: As the thief was leaving the courthouse, they called someone who talked to them for less than a minute.\n",
    "In the call, I heard the thief say that they were planning to take the earliest flight out of Fiftyville tomorrow. The thief then asked the person on the other end of the phone to purchase the flight ticket."
   ],
   "metadata": {}
  },
  {
   "cell_type": "markdown",
   "source": [
    "## 1. PARKING LOT INFO\n",
    "### 1.1 Which Licence left the courthouse between 10 & 11 am ?"
   ],
   "metadata": {}
  },
  {
   "cell_type": "code",
   "execution_count": 2,
   "source": [
    "# Take all of the licence who left the courthouse parking between 10 & 11 am\n",
    "database.execute(\n",
    "    '''\n",
    "    SELECT license_plate \n",
    "    FROM courthouse_security_logs  \n",
    "    WHERE \n",
    "        year = 2020 AND \n",
    "        month = 07 AND day =28 AND \n",
    "        activity = \"exit\" AND \n",
    "        hour >= 10  AND hour < 11;\n",
    "    '''\n",
    ")"
   ],
   "outputs": [
    {
     "output_type": "execute_result",
     "data": {
      "text/plain": [
       "[{'license_plate': '5P2BI95'},\n",
       " {'license_plate': '94KL13X'},\n",
       " {'license_plate': '6P58WS2'},\n",
       " {'license_plate': '4328GD8'},\n",
       " {'license_plate': 'G412CB7'},\n",
       " {'license_plate': 'L93JTIZ'},\n",
       " {'license_plate': '322W7JE'},\n",
       " {'license_plate': '0NTHK55'},\n",
       " {'license_plate': '1106N58'}]"
      ]
     },
     "metadata": {},
     "execution_count": 2
    }
   ],
   "metadata": {}
  },
  {
   "cell_type": "markdown",
   "source": [
    "### 1.2 Get the name of the potential suspect form there license_plate"
   ],
   "metadata": {}
  },
  {
   "cell_type": "code",
   "execution_count": 3,
   "source": [
    "### 1.2 Get the name of the potential suspect form there license_plate\n",
    "database.execute('''\n",
    "SELECT name FROM people WHERE license_plate IN\n",
    "    (SELECT license_plate FROM courthouse_security_logs WHERE year = 2020 AND month = 07 AND day =28 AND activity = \"exit\" AND hour >= 10  AND hour < 11 AND minute<25);\n",
    "    '''\n",
    ")"
   ],
   "outputs": [
    {
     "output_type": "execute_result",
     "data": {
      "text/plain": [
       "[{'name': 'Patrick'},\n",
       " {'name': 'Amber'},\n",
       " {'name': 'Elizabeth'},\n",
       " {'name': 'Roger'},\n",
       " {'name': 'Danielle'},\n",
       " {'name': 'Russell'},\n",
       " {'name': 'Evelyn'},\n",
       " {'name': 'Ernest'}]"
      ]
     },
     "metadata": {},
     "execution_count": 3
    }
   ],
   "metadata": {}
  },
  {
   "cell_type": "markdown",
   "source": [
    "## 2. ATM INFO\n",
    "### 2.1 : Get the account_number of people which withdraw money on Fifer street these day"
   ],
   "metadata": {}
  },
  {
   "cell_type": "code",
   "execution_count": 4,
   "source": [
    "database.execute('''\n",
    "    SELECT account_number  \n",
    "    FROM atm_transactions\n",
    "    WHERE year = 2020 AND month = 07 AND day =28 AND transaction_type='withdraw' AND atm_location = \"Fifer Street\";\n",
    "    '''\n",
    ")"
   ],
   "outputs": [
    {
     "output_type": "execute_result",
     "data": {
      "text/plain": [
       "[{'account_number': 28500762},\n",
       " {'account_number': 28296815},\n",
       " {'account_number': 76054385},\n",
       " {'account_number': 49610011},\n",
       " {'account_number': 16153065},\n",
       " {'account_number': 25506511},\n",
       " {'account_number': 81061156},\n",
       " {'account_number': 26013199}]"
      ]
     },
     "metadata": {},
     "execution_count": 4
    }
   ],
   "metadata": {}
  },
  {
   "cell_type": "markdown",
   "source": [
    "### 2.2 GET the name of potential suspect with a request on atm_transaction then account_number then people"
   ],
   "metadata": {}
  },
  {
   "cell_type": "code",
   "execution_count": 5,
   "source": [
    "database.execute(\n",
    "    '''\n",
    "    SELECT name FROM people WHERE id IN\n",
    "    (SELECT person_id FROM bank_accounts WHERE account_number IN\n",
    "        (SELECT account_number  FROM atm_transactions WHERE year = 2020 AND month = 07 AND day =28 AND transaction_type='withdraw' AND atm_location = \"Fifer Street\"));\n",
    "    '''\n",
    ")"
   ],
   "outputs": [
    {
     "output_type": "execute_result",
     "data": {
      "text/plain": [
       "[{'name': 'Bobby'},\n",
       " {'name': 'Elizabeth'},\n",
       " {'name': 'Victoria'},\n",
       " {'name': 'Madison'},\n",
       " {'name': 'Roy'},\n",
       " {'name': 'Danielle'},\n",
       " {'name': 'Russell'},\n",
       " {'name': 'Ernest'}]"
      ]
     },
     "metadata": {},
     "execution_count": 5
    }
   ],
   "metadata": {}
  },
  {
   "cell_type": "markdown",
   "source": [
    "## 3 . FLIGHT INFO\n",
    "Get the first flight from Fiftyville for the 29th Jully 2020"
   ],
   "metadata": {}
  },
  {
   "cell_type": "code",
   "execution_count": 6,
   "source": [
    "database.execute(\n",
    "    '''\n",
    "    SELECT people.name FROM passengers\n",
    "    JOIN people ON people.passport_number = passengers.passport_number\n",
    "    WHERE flight_id =\n",
    "        (\n",
    "            SELECT flights.id FROM flights\n",
    "            JOIN airports ON flights.origin_airport_id = airports.id\n",
    "            WHERE year = 2020 AND month = 07 AND day =28 AND city = \"Fiftyville\"\n",
    "            ORDER BY hour\n",
    "            LIMIT 1\n",
    "        );\n",
    "    '''\n",
    ")"
   ],
   "outputs": [
    {
     "output_type": "execute_result",
     "data": {
      "text/plain": [
       "[{'name': 'Nicole'},\n",
       " {'name': 'Amanda'},\n",
       " {'name': 'Joyce'},\n",
       " {'name': 'Jean'},\n",
       " {'name': 'Daniel'},\n",
       " {'name': 'Carol'},\n",
       " {'name': 'Rebecca'},\n",
       " {'name': 'Sophia'}]"
      ]
     },
     "metadata": {},
     "execution_count": 6
    }
   ],
   "metadata": {}
  },
  {
   "cell_type": "markdown",
   "source": [
    "## 4. PHONE CALL\n",
    "call with a duration under a minute"
   ],
   "metadata": {}
  },
  {
   "cell_type": "code",
   "execution_count": 7,
   "source": [
    "database.execute(\n",
    "    '''\n",
    "    SELECT name FROM people \n",
    "    WHERE phone_number IN (\n",
    "        SELECT caller \n",
    "        FROM phone_calls \n",
    "        WHERE  \n",
    "            year = 2020 AND month = 07 AND day = 28 AND DURATION < 60);\n",
    "    '''\n",
    ")"
   ],
   "outputs": [
    {
     "output_type": "execute_result",
     "data": {
      "text/plain": [
       "[{'name': 'Bobby'},\n",
       " {'name': 'Roger'},\n",
       " {'name': 'Victoria'},\n",
       " {'name': 'Madison'},\n",
       " {'name': 'Russell'},\n",
       " {'name': 'Evelyn'},\n",
       " {'name': 'Ernest'},\n",
       " {'name': 'Kimberly'}]"
      ]
     },
     "metadata": {},
     "execution_count": 7
    }
   ],
   "metadata": {}
  },
  {
   "cell_type": "markdown",
   "source": [
    "## Result \n",
    "### 1. Who is the thief ?"
   ],
   "metadata": {}
  },
  {
   "cell_type": "code",
   "execution_count": 8,
   "source": [
    "### Group everything in one querry\n",
    "database.execute(\n",
    "    '''\n",
    "    SELECT name FROM people WHERE name IN (\n",
    "    -- 1. PARKING LOT\n",
    "    SELECT name FROM people WHERE license_plate IN(\n",
    "        SELECT license_plate FROM courthouse_security_logs WHERE year=2020 AND month=07 AND day=28 AND activity = \"exit\" AND hour>=10  AND hour<11 AND minute<25\n",
    "    )\n",
    ")\n",
    "AND name IN (\n",
    "    -- 2 ATM\n",
    "    SELECT name FROM people WHERE id IN(\n",
    "        SELECT person_id FROM bank_accounts WHERE account_number IN(\n",
    "            SELECT account_number  FROM atm_transactions WHERE year = 2020 AND month = 07 AND day =28 AND transaction_type='withdraw' AND atm_location = \"Fifer Street\"\n",
    "        )\n",
    "    )\n",
    ")\n",
    "AND name IN (\n",
    "    -- 3 FLIGHT\n",
    "    SELECT people.name FROM passengers\n",
    "    JOIN people ON people.passport_number = passengers.passport_number\n",
    "    WHERE flight_id =\n",
    "        (\n",
    "            SELECT flights.id FROM flights\n",
    "            JOIN airports ON flights.origin_airport_id = airports.id\n",
    "            WHERE year = 2020 AND month = 07 AND day = 29 AND city = \"Fiftyville\"\n",
    "            ORDER BY hour\n",
    "            LIMIT 1\n",
    "        )\n",
    ")\n",
    "AND name IN (\n",
    "    -- PHONE CALL\n",
    "    SELECT name FROM people WHERE phone_number IN (\n",
    "        SELECT caller FROM phone_calls WHERE  year = 2020 AND month = 07 AND day = 28 AND duration < 60\n",
    "    )\n",
    ");\n",
    "    ''')"
   ],
   "outputs": [
    {
     "output_type": "execute_result",
     "data": {
      "text/plain": [
       "[{'name': 'Ernest'}]"
      ]
     },
     "metadata": {},
     "execution_count": 8
    }
   ],
   "metadata": {}
  },
  {
   "cell_type": "markdown",
   "source": [
    "Ernest is the thief 🥷"
   ],
   "metadata": {}
  },
  {
   "cell_type": "markdown",
   "source": [
    "### Who is the helper ?"
   ],
   "metadata": {}
  },
  {
   "cell_type": "code",
   "execution_count": 9,
   "source": [
    "database.execute(\n",
    "    '''\n",
    "    SELECT name \n",
    "    FROM people WHERE phone_number = (\n",
    "        SELECT phone_calls.receiver \n",
    "        FROM phone_calls\n",
    "        JOIN people ON people.phone_number = phone_calls.caller\n",
    "        WHERE  year = 2020 AND month = 07 AND day = 28 AND duration < 60 AND name = \"Ernest\");\n",
    "    '''\n",
    ")"
   ],
   "outputs": [
    {
     "output_type": "execute_result",
     "data": {
      "text/plain": [
       "[{'name': 'Berthold'}]"
      ]
     },
     "metadata": {},
     "execution_count": 9
    }
   ],
   "metadata": {}
  },
  {
   "cell_type": "markdown",
   "source": [
    "BERTHOLD IS THE HELPER 😈"
   ],
   "metadata": {}
  },
  {
   "cell_type": "markdown",
   "source": [
    "### Where are they escaping to ?"
   ],
   "metadata": {}
  },
  {
   "cell_type": "code",
   "execution_count": 10,
   "source": [
    "database.execute(\n",
    "    '''\n",
    "    SELECT * \n",
    "    FROM airports \n",
    "    WHERE id =\n",
    "        (\n",
    "            SELECT destination_airport_id FROM flights\n",
    "            JOIN airports ON flights.origin_airport_id = airports.id\n",
    "            WHERE year = 2020 AND month = 07 AND day = 29 AND city = \"Fiftyville\"\n",
    "            ORDER BY hour LIMIT 1\n",
    "        );\n",
    "    '''\n",
    ")"
   ],
   "outputs": [
    {
     "output_type": "execute_result",
     "data": {
      "text/plain": [
       "[{'id': 4,\n",
       "  'abbreviation': 'LHR',\n",
       "  'full_name': 'Heathrow Airport',\n",
       "  'city': 'London'}]"
      ]
     },
     "metadata": {},
     "execution_count": 10
    }
   ],
   "metadata": {}
  },
  {
   "cell_type": "markdown",
   "source": [
    "💂‍♀️ THEY ESCAPED TO LONDON\n"
   ],
   "metadata": {}
  },
  {
   "cell_type": "markdown",
   "source": [
    "summary: \n",
    "# Ernest is the thief he escaped to London with Berthold 🥷💂‍♀️😈"
   ],
   "metadata": {}
  }
 ],
 "metadata": {
  "orig_nbformat": 4,
  "language_info": {
   "name": "python",
   "version": "3.9.4",
   "mimetype": "text/x-python",
   "codemirror_mode": {
    "name": "ipython",
    "version": 3
   },
   "pygments_lexer": "ipython3",
   "nbconvert_exporter": "python",
   "file_extension": ".py"
  },
  "kernelspec": {
   "name": "python3",
   "display_name": "Python 3.9.4 64-bit ('sql_mystery-FJsWwhBJ': pipenv)"
  },
  "interpreter": {
   "hash": "25414030523cd0577a1534e4f33f28a662cf21bc99b9702ab7eb756e2b5dcc28"
  }
 },
 "nbformat": 4,
 "nbformat_minor": 2
}