{
 "cells": [
  {
   "cell_type": "markdown",
   "source": [
    "# A Mystery in Fiftyville 🕵️\n",
    "\n",
    "Write SQL queries to solve a mystery.<br>\n",
    "*[problem 7 from Harvard CS50](https://cs50.harvard.edu/x/2021/psets/7/)* \n",
    "\n",
    "## The Sotry 🐥\n",
    "\n",
    "The CS50 Duck has been stolen! The town of Fiftyville has called upon you to solve the mystery of the stolen duck. Authorities believe that the thief stole the duck and then, shortly afterwards, took a flight out of town with the help of an accomplice. \n",
    "<br>\n",
    "<br>\n",
    "\n",
    "## Your goal is to identify 🎯\n",
    "\n",
    "- Who the thief is ?\n",
    "- What city the thief escaped to ?\n",
    "- Who the thief’s accomplice ?\n",
    "<br>\n",
    "<br>\n",
    "\n",
    "\n",
    "## Clues 🤔\n",
    "\n",
    "All you know is that the theft **took place on July 28, 2020** and that it **took place on Chamberlin Street**."
   ],
   "metadata": {}
  },
  {
   "cell_type": "code",
   "execution_count": 1,
   "source": [
    "from cs50 import SQL\n",
    "\n",
    "# Let's connect to database with sqlite3\n",
    "database = SQL(\"sqlite:///fiftyville.db\")"
   ],
   "outputs": [],
   "metadata": {}
  },
  {
   "cell_type": "markdown",
   "source": [
    "The database is compose by 9 tables:\n",
    "- `airports`                  \n",
    "- `crime_scene_reports`       \n",
    "- `people`\n",
    "- `atm_transactions`          \n",
    "- `flights`                   \n",
    "- `phone_calls`\n",
    "- `bank_accounts`             \n",
    "- `interviews`\n",
    "- `courthouse_security_logs`  \n",
    "- `passengers`\n",
    "\n",
    "Let's first access the theft description through the `crime_scene_reports` table. "
   ],
   "metadata": {}
  },
  {
   "cell_type": "code",
   "execution_count": 2,
   "source": [
    "database.execute(\n",
    "    \"\"\"\n",
    "    SELECT description \n",
    "    FROM crime_scene_reports \n",
    "    WHERE \n",
    "        year = 2020 AND \n",
    "        month = 07 AND \n",
    "        day =28 AND \n",
    "        street = \"Chamberlin Street\"\n",
    "    \"\"\"\n",
    ")"
   ],
   "outputs": [
    {
     "output_type": "execute_result",
     "data": {
      "text/plain": [
       "[{'description': 'Theft of the CS50 duck took place at 10:15am at the Chamberlin Street courthouse. Interviews were conducted today with three witnesses who were present at the time — each of their interview transcripts mentions the courthouse.'}]"
      ]
     },
     "metadata": {},
     "execution_count": 2
    }
   ],
   "metadata": {}
  },
  {
   "cell_type": "markdown",
   "source": [
    "Great ! We know that the theft took place at `10:15am` at `the Chamberlin Street courthouse` and there are `3 witnesses`. \n",
    "\n",
    "Let's take a look at the interviews"
   ],
   "metadata": {}
  },
  {
   "cell_type": "code",
   "execution_count": 3,
   "source": [
    "database.execute(\n",
    "    \"\"\"\n",
    "    SELECT name,transcript \n",
    "    FROM interviews \n",
    "    WHERE \n",
    "        year = 2020 AND \n",
    "        month = 07 AND \n",
    "        day = 28;\n",
    "    \"\"\"\n",
    ")"
   ],
   "outputs": [
    {
     "output_type": "execute_result",
     "data": {
      "text/plain": [
       "[{'name': 'Jose',\n",
       "  'transcript': '“Ah,” said he, “I forgot that I had not seen you for some weeks. It is a little souvenir from the King of Bohemia in return for my assistance in the case of the Irene Adler papers.”'},\n",
       " {'name': 'Eugene',\n",
       "  'transcript': '“I suppose,” said Holmes, “that when Mr. Windibank came back from France he was very annoyed at your having gone to the ball.”'},\n",
       " {'name': 'Barbara',\n",
       "  'transcript': '“You had my note?” he asked with a deep harsh voice and a strongly marked German accent. “I told you that I would call.” He looked from one to the other of us, as if uncertain which to address.'},\n",
       " {'name': 'Ruth',\n",
       "  'transcript': 'Sometime within ten minutes of the theft, I saw the thief get into a car in the courthouse parking lot and drive away. If you have security footage from the courthouse parking lot, you might want to look for cars that left the parking lot in that time frame.'},\n",
       " {'name': 'Eugene',\n",
       "  'transcript': \"I don't know the thief's name, but it was someone I recognized. Earlier this morning, before I arrived at the courthouse, I was walking by the ATM on Fifer Street and saw the thief there withdrawing some money.\"},\n",
       " {'name': 'Raymond',\n",
       "  'transcript': 'As the thief was leaving the courthouse, they called someone who talked to them for less than a minute. In the call, I heard the thief say that they were planning to take the earliest flight out of Fiftyville tomorrow. The thief then asked the person on the other end of the phone to purchase the flight ticket.'}]"
      ]
     },
     "metadata": {},
     "execution_count": 3
    }
   ],
   "metadata": {}
  },
  {
   "cell_type": "markdown",
   "source": [
    "## 3 INTERVIEWS\n",
    " \n",
    "\"Sometime within ten minutes of the theft, **I saw the thief get into a car in the courthouse parking lot and drive away**.\n",
    "If you have security footage from the courthouse parking lot, you might want to look for cars that left the parking lot in that time frame.\" *- RUTH* 👩‍🦳\n",
    "\n",
    "\"I don't know the thief's name, but it was someone I recognized. Earlier this morning, before I arrived at the courthouse,\n",
    "**I was walking by the ATM on Fifer Street and saw the thief there withdrawing some money.**\" *- EUGENE* 👱\n",
    "\n",
    "\"As the thief was leaving the courthouse, they called someone who talked to them for less than a minute.\n",
    "In the call, I heard the thief say that they were planning to take the earliest flight out of Fiftyville tomorrow. The thief then asked the person on the other end of the phone to purchase the flight ticket.\" *- RAYMOND* 🧓\n",
    "\n",
    "## 4 clues 🧐\n",
    "- The thief withdrew money from the Fifer Street ATM before the robbery.\n",
    "- The thief left the courthouse parking lot within 10 minutes of the robbery.\n",
    "- When the thief left the courthouse, we called someone for less than a minute.\n",
    "- The thief and his acolyte got on the first flight on July 29, 2020.\n",
    "\n",
    "By processing all these clues and joining the information, we will find the thief, his sidekick and the place of their escape.\n",
    "\n",
    "## Summary\n",
    "1. PARKING LOT INFO\n",
    "2. ATM INFO\n",
    "3. FLIGHT INFO\n",
    "4. PHONE INFO"
   ],
   "metadata": {}
  },
  {
   "cell_type": "markdown",
   "source": [
    "## 1. PARKING LOT INFO\n",
    "*table used: `courthouse_security_logs` & `people`*\n",
    "### Which Licence left the courthouse between 10 & 11 am ?"
   ],
   "metadata": {}
  },
  {
   "cell_type": "code",
   "execution_count": 4,
   "source": [
    "# Take all of the licence who left the courthouse parking between 10 & 11 am\n",
    "suspect_licence_plate = (\n",
    "\"\"\"\n",
    "    SELECT license_plate \n",
    "    FROM courthouse_security_logs  \n",
    "    WHERE \n",
    "        activity = \"exit\" AND \n",
    "        year = 2020 AND \n",
    "        month = 07 AND \n",
    "        day =28 AND \n",
    "        hour BETWEEN 10  AND  11 AND\n",
    "        minute<25 \n",
    "\"\"\"\n",
    ")\n",
    "database.execute(suspect_licence_plate)"
   ],
   "outputs": [
    {
     "output_type": "execute_result",
     "data": {
      "text/plain": [
       "[{'license_plate': '5P2BI95'},\n",
       " {'license_plate': '94KL13X'},\n",
       " {'license_plate': '6P58WS2'},\n",
       " {'license_plate': '4328GD8'},\n",
       " {'license_plate': 'G412CB7'},\n",
       " {'license_plate': 'L93JTIZ'},\n",
       " {'license_plate': '322W7JE'},\n",
       " {'license_plate': '0NTHK55'}]"
      ]
     },
     "metadata": {},
     "execution_count": 4
    }
   ],
   "metadata": {}
  },
  {
   "cell_type": "markdown",
   "source": [
    "### Get the name of the potential suspect form there license_plate"
   ],
   "metadata": {}
  },
  {
   "cell_type": "code",
   "execution_count": 5,
   "source": [
    "suspect_driver = (\n",
    "f\"\"\"\n",
    "    SELECT name \n",
    "    FROM people \n",
    "    WHERE license_plate IN({suspect_licence_plate})\n",
    "\"\"\")\n",
    "database.execute(suspect_driver)"
   ],
   "outputs": [
    {
     "output_type": "execute_result",
     "data": {
      "text/plain": [
       "[{'name': 'Patrick'},\n",
       " {'name': 'Amber'},\n",
       " {'name': 'Elizabeth'},\n",
       " {'name': 'Roger'},\n",
       " {'name': 'Danielle'},\n",
       " {'name': 'Russell'},\n",
       " {'name': 'Evelyn'},\n",
       " {'name': 'Ernest'}]"
      ]
     },
     "metadata": {},
     "execution_count": 5
    }
   ],
   "metadata": {}
  },
  {
   "cell_type": "markdown",
   "source": [
    "Great ! We know that the thieft is inside this 9 names. Let's now take a look at the people who was using the atm on Fifer street this days "
   ],
   "metadata": {}
  },
  {
   "cell_type": "markdown",
   "source": [
    "## 2. ATM INFO\n",
    "*table used: `atm_transactions`, `bank_accounts` & `people`*\n",
    "### Which account numbers have been withdrawn this day in Fifer Street? "
   ],
   "metadata": {}
  },
  {
   "cell_type": "code",
   "execution_count": 6,
   "source": [
    "suspect_account_number =(\n",
    "\"\"\"\n",
    "    SELECT account_number  \n",
    "    FROM atm_transactions\n",
    "    WHERE \n",
    "        year = 2020 AND \n",
    "        month = 07 AND \n",
    "        day =28 AND \n",
    "        transaction_type='withdraw' \n",
    "        AND atm_location = \"Fifer Street\"\n",
    "\"\"\"\n",
    ")\n",
    "database.execute(suspect_account_number)"
   ],
   "outputs": [
    {
     "output_type": "execute_result",
     "data": {
      "text/plain": [
       "[{'account_number': 28500762},\n",
       " {'account_number': 28296815},\n",
       " {'account_number': 76054385},\n",
       " {'account_number': 49610011},\n",
       " {'account_number': 16153065},\n",
       " {'account_number': 25506511},\n",
       " {'account_number': 81061156},\n",
       " {'account_number': 26013199}]"
      ]
     },
     "metadata": {},
     "execution_count": 6
    }
   ],
   "metadata": {}
  },
  {
   "cell_type": "markdown",
   "source": [
    "### Get the person id from the account number "
   ],
   "metadata": {}
  },
  {
   "cell_type": "code",
   "execution_count": 7,
   "source": [
    "suspect_bank_id = (\n",
    "f\"\"\"\n",
    "    SELECT person_id \n",
    "    FROM bank_accounts \n",
    "    WHERE account_number IN({suspect_account_number})\n",
    "\n",
    "\"\"\"\n",
    ")\n",
    "database.execute(suspect_bank_id)"
   ],
   "outputs": [
    {
     "output_type": "execute_result",
     "data": {
      "text/plain": [
       "[{'person_id': 686048},\n",
       " {'person_id': 514354},\n",
       " {'person_id': 458378},\n",
       " {'person_id': 395717},\n",
       " {'person_id': 396669},\n",
       " {'person_id': 467400},\n",
       " {'person_id': 449774},\n",
       " {'person_id': 438727}]"
      ]
     },
     "metadata": {},
     "execution_count": 7
    }
   ],
   "metadata": {}
  },
  {
   "cell_type": "markdown",
   "source": [
    "### Get the name of people from there bank id"
   ],
   "metadata": {}
  },
  {
   "cell_type": "code",
   "execution_count": 8,
   "source": [
    "suspect_from_atm = (\n",
    "    f\"\"\"\n",
    "    SELECT name \n",
    "    FROM people \n",
    "    WHERE id IN({suspect_bank_id})\n",
    "    \"\"\"\n",
    ")\n",
    "database.execute(suspect_from_atm)"
   ],
   "outputs": [
    {
     "output_type": "execute_result",
     "data": {
      "text/plain": [
       "[{'name': 'Bobby'},\n",
       " {'name': 'Elizabeth'},\n",
       " {'name': 'Victoria'},\n",
       " {'name': 'Madison'},\n",
       " {'name': 'Roy'},\n",
       " {'name': 'Danielle'},\n",
       " {'name': 'Russell'},\n",
       " {'name': 'Ernest'}]"
      ]
     },
     "metadata": {},
     "execution_count": 8
    }
   ],
   "metadata": {}
  },
  {
   "cell_type": "markdown",
   "source": [
    "Nice ! In those 8 names we have the thief. Let's now investigate on flight information "
   ],
   "metadata": {}
  },
  {
   "cell_type": "markdown",
   "source": [
    "## 3 . FLIGHT INFO\n",
    "*table used: `flights`, `airports`, `passanger` & `people`*\n",
    "### What is the first flight from Fiftyville on July 29, 2020?"
   ],
   "metadata": {}
  },
  {
   "cell_type": "code",
   "execution_count": 9,
   "source": [
    "def get_flight_info(col='*'):\n",
    "    return (\n",
    "        f\"\"\"\n",
    "        SELECT flights.{col}\n",
    "        FROM flights \n",
    "        JOIN airports ON flights.origin_airport_id = airports.id\n",
    "        WHERE \n",
    "            year = 2020 AND\n",
    "            month = 07 AND \n",
    "            day =29 AND\n",
    "            city = \"Fiftyville\"\n",
    "        ORDER BY hour\n",
    "        LIMIT 1\n",
    "        \"\"\"\n",
    "    )\n",
    "all_flight_info = get_flight_info(col='*')\n",
    "database.execute(all_flight_info)\n"
   ],
   "outputs": [
    {
     "output_type": "execute_result",
     "data": {
      "text/plain": [
       "[{'id': 36,\n",
       "  'origin_airport_id': 8,\n",
       "  'destination_airport_id': 4,\n",
       "  'year': 2020,\n",
       "  'month': 7,\n",
       "  'day': 29,\n",
       "  'hour': 8,\n",
       "  'minute': 20}]"
      ]
     },
     "metadata": {},
     "execution_count": 9
    }
   ],
   "metadata": {}
  },
  {
   "cell_type": "markdown",
   "source": [
    "The first flight from Fiftyville on the 29th of July, with `id 6`, going to `destination_airport_id': 4` leaved at 8.20 am. \n",
    "\n",
    "### Who was the passenger of this flight ?"
   ],
   "metadata": {}
  },
  {
   "cell_type": "code",
   "execution_count": 10,
   "source": [
    "first_flight_id = get_flight_info(\"id\")\n",
    "\n",
    "suspect_passengers = (\n",
    "    f\"\"\"\n",
    "    SELECT people.name FROM passengers\n",
    "    JOIN people \n",
    "    ON people.passport_number = passengers.passport_number\n",
    "    WHERE flight_id = ({first_flight_id})\n",
    "    \"\"\"\n",
    ")\n",
    "database.execute(suspect_passengers)"
   ],
   "outputs": [
    {
     "output_type": "execute_result",
     "data": {
      "text/plain": [
       "[{'name': 'Doris'},\n",
       " {'name': 'Roger'},\n",
       " {'name': 'Ernest'},\n",
       " {'name': 'Edward'},\n",
       " {'name': 'Evelyn'},\n",
       " {'name': 'Madison'},\n",
       " {'name': 'Bobby'},\n",
       " {'name': 'Danielle'}]"
      ]
     },
     "metadata": {},
     "execution_count": 10
    }
   ],
   "metadata": {}
  },
  {
   "cell_type": "markdown",
   "source": [
    "We are lucky that the flight was almost empty! The thief and his acolyte are among these 8 people. Now let's find out where they were escaping to\n",
    "\n",
    "### Where the flight going to ?"
   ],
   "metadata": {}
  },
  {
   "cell_type": "code",
   "execution_count": 11,
   "source": [
    "destination_airport_id = get_flight_info(\"destination_airport_id\")\n",
    "flight_destination = (\n",
    "    f\"\"\"\n",
    "    SELECT * \n",
    "    FROM airports \n",
    "    WHERE id = ({destination_airport_id})\n",
    "    \"\"\"\n",
    ")\n",
    "database.execute(flight_destination)"
   ],
   "outputs": [
    {
     "output_type": "execute_result",
     "data": {
      "text/plain": [
       "[{'id': 4,\n",
       "  'abbreviation': 'LHR',\n",
       "  'full_name': 'Heathrow Airport',\n",
       "  'city': 'London'}]"
      ]
     },
     "metadata": {},
     "execution_count": 11
    }
   ],
   "metadata": {}
  },
  {
   "cell_type": "markdown",
   "source": [
    "#### They were escaping to London 💂‍♀️"
   ],
   "metadata": {}
  },
  {
   "cell_type": "markdown",
   "source": [
    "## 4. PHONE CALL\n",
    "*table used: `phone_number` & `people`*\n",
    "### What were the calls under the minute this day? "
   ],
   "metadata": {}
  },
  {
   "cell_type": "code",
   "execution_count": 12,
   "source": [
    "suspect_from_phone_call = (\n",
    "    \"\"\"\n",
    "    SELECT name FROM people \n",
    "    WHERE phone_number IN (\n",
    "        SELECT caller \n",
    "        FROM phone_calls \n",
    "        WHERE  \n",
    "            year = 2020 AND \n",
    "            month = 07 AND \n",
    "            day = 28 AND \n",
    "            DURATION < 60\n",
    "    )\n",
    "    \"\"\"\n",
    ")\n",
    "database.execute(suspect_from_phone_call)"
   ],
   "outputs": [
    {
     "output_type": "execute_result",
     "data": {
      "text/plain": [
       "[{'name': 'Bobby'},\n",
       " {'name': 'Roger'},\n",
       " {'name': 'Victoria'},\n",
       " {'name': 'Madison'},\n",
       " {'name': 'Russell'},\n",
       " {'name': 'Evelyn'},\n",
       " {'name': 'Ernest'},\n",
       " {'name': 'Kimberly'}]"
      ]
     },
     "metadata": {},
     "execution_count": 12
    }
   ],
   "metadata": {}
  },
  {
   "cell_type": "markdown",
   "source": [
    "Great! We know that the thief is among these people. Now Let's mix all together to find the thief !"
   ],
   "metadata": {}
  },
  {
   "cell_type": "markdown",
   "source": [
    "# Result 😎"
   ],
   "metadata": {}
  },
  {
   "cell_type": "markdown",
   "source": [
    "## Who is the thief ?"
   ],
   "metadata": {}
  },
  {
   "cell_type": "code",
   "execution_count": 13,
   "source": [
    "# Group All in one query\n",
    "find_the_thief = (\n",
    "    f\"\"\"\n",
    "    SELECT name \n",
    "    FROM people \n",
    "    WHERE \n",
    "        name IN ({suspect_driver}) AND\n",
    "        name IN ({suspect_from_atm}) AND\n",
    "        name IN ({suspect_passengers}) AND\n",
    "        name IN ({suspect_from_phone_call})\n",
    "    \"\"\"\n",
    ") \n",
    "database.execute(find_the_thief)\n"
   ],
   "outputs": [
    {
     "output_type": "execute_result",
     "data": {
      "text/plain": [
       "[{'name': 'Ernest'}]"
      ]
     },
     "metadata": {},
     "execution_count": 13
    }
   ],
   "metadata": {}
  },
  {
   "cell_type": "markdown",
   "source": [
    "Ernest is the thief 🥷"
   ],
   "metadata": {}
  },
  {
   "cell_type": "markdown",
   "source": [
    "## Who is the acolyte ?"
   ],
   "metadata": {}
  },
  {
   "cell_type": "code",
   "execution_count": 14,
   "source": [
    "# get the acolyte number\n",
    "acolyte_number = (\n",
    "    f\"\"\"\n",
    "    SELECT phone_calls.receiver\n",
    "    FROM phone_calls\n",
    "    JOIN people ON people.phone_number = phone_calls.caller\n",
    "    WHERE  \n",
    "        year = 2020 AND\n",
    "        month = 07 AND \n",
    "        day = 28 AND \n",
    "        duration < 60 AND \n",
    "        name = \"Ernest\"\n",
    "    \"\"\"\n",
    ")\n",
    "database.execute(acolyte_number)"
   ],
   "outputs": [
    {
     "output_type": "execute_result",
     "data": {
      "text/plain": [
       "[{'receiver': '(375) 555-8161'}]"
      ]
     },
     "metadata": {},
     "execution_count": 14
    }
   ],
   "metadata": {}
  },
  {
   "cell_type": "code",
   "execution_count": 15,
   "source": [
    "# get the acolyte name\n",
    "find_the_acolyte = (\n",
    "    f\"\"\"\n",
    "    SELECT name\n",
    "    FROM people\n",
    "    WHERE phone_number = ({acolyte_number})\n",
    "    \"\"\"\n",
    ")\n",
    "database.execute(find_the_acolyte)"
   ],
   "outputs": [
    {
     "output_type": "execute_result",
     "data": {
      "text/plain": [
       "[{'name': 'Berthold'}]"
      ]
     },
     "metadata": {},
     "execution_count": 15
    }
   ],
   "metadata": {}
  },
  {
   "cell_type": "markdown",
   "source": [
    "Berthold is the acolyte 😈"
   ],
   "metadata": {}
  },
  {
   "cell_type": "markdown",
   "source": [
    "<div class=\"alert alert-block alert-info\">\n",
    "<h2>summary:</h2>\n",
    "<ul>\n",
    "  <li>Ernest is the thief</li>\n",
    "  <li>Berthold the acolyte</li>\n",
    "  <li>they escaped to London</li>\n",
    "</ul>\n",
    "</div>"
   ],
   "metadata": {}
  }
 ],
 "metadata": {
  "orig_nbformat": 4,
  "language_info": {
   "name": "python",
   "version": "3.9.4",
   "mimetype": "text/x-python",
   "codemirror_mode": {
    "name": "ipython",
    "version": 3
   },
   "pygments_lexer": "ipython3",
   "nbconvert_exporter": "python",
   "file_extension": ".py"
  },
  "kernelspec": {
   "name": "python3",
   "display_name": "Python 3.9.4 64-bit ('sql_mystery-FJsWwhBJ': pipenv)"
  },
  "interpreter": {
   "hash": "25414030523cd0577a1534e4f33f28a662cf21bc99b9702ab7eb756e2b5dcc28"
  }
 },
 "nbformat": 4,
 "nbformat_minor": 2
}